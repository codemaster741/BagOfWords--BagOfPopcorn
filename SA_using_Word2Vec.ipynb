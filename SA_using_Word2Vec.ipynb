{
 "cells": [
  {
   "cell_type": "code",
   "execution_count": 81,
   "id": "0615a8ff",
   "metadata": {},
   "outputs": [],
   "source": [
    "import numpy as np\n",
    "import pandas as pd\n",
    "from bs4 import BeautifulSoup\n",
    "import re\n",
    "import nltk\n",
    "from nltk.corpus import stopwords\n",
    "from nltk.stem import PorterStemmer\n",
    "import matplotlib.pyplot as plt\n",
    "\n",
    "np.random.seed= 0"
   ]
  },
  {
   "cell_type": "code",
   "execution_count": 20,
   "id": "12742612",
   "metadata": {},
   "outputs": [
    {
     "data": {
      "text/html": [
       "<div>\n",
       "<style scoped>\n",
       "    .dataframe tbody tr th:only-of-type {\n",
       "        vertical-align: middle;\n",
       "    }\n",
       "\n",
       "    .dataframe tbody tr th {\n",
       "        vertical-align: top;\n",
       "    }\n",
       "\n",
       "    .dataframe thead th {\n",
       "        text-align: right;\n",
       "    }\n",
       "</style>\n",
       "<table border=\"1\" class=\"dataframe\">\n",
       "  <thead>\n",
       "    <tr style=\"text-align: right;\">\n",
       "      <th></th>\n",
       "      <th>id</th>\n",
       "      <th>sentiment</th>\n",
       "      <th>review</th>\n",
       "    </tr>\n",
       "  </thead>\n",
       "  <tbody>\n",
       "    <tr>\n",
       "      <th>0</th>\n",
       "      <td>5814_8</td>\n",
       "      <td>1</td>\n",
       "      <td>With all this stuff going down at the moment w...</td>\n",
       "    </tr>\n",
       "    <tr>\n",
       "      <th>1</th>\n",
       "      <td>2381_9</td>\n",
       "      <td>1</td>\n",
       "      <td>\\The Classic War of the Worlds\\\" by Timothy Hi...</td>\n",
       "    </tr>\n",
       "    <tr>\n",
       "      <th>2</th>\n",
       "      <td>7759_3</td>\n",
       "      <td>0</td>\n",
       "      <td>The film starts with a manager (Nicholas Bell)...</td>\n",
       "    </tr>\n",
       "    <tr>\n",
       "      <th>3</th>\n",
       "      <td>3630_4</td>\n",
       "      <td>0</td>\n",
       "      <td>It must be assumed that those who praised this...</td>\n",
       "    </tr>\n",
       "    <tr>\n",
       "      <th>4</th>\n",
       "      <td>9495_8</td>\n",
       "      <td>1</td>\n",
       "      <td>Superbly trashy and wondrously unpretentious 8...</td>\n",
       "    </tr>\n",
       "  </tbody>\n",
       "</table>\n",
       "</div>"
      ],
      "text/plain": [
       "       id  sentiment                                             review\n",
       "0  5814_8          1  With all this stuff going down at the moment w...\n",
       "1  2381_9          1  \\The Classic War of the Worlds\\\" by Timothy Hi...\n",
       "2  7759_3          0  The film starts with a manager (Nicholas Bell)...\n",
       "3  3630_4          0  It must be assumed that those who praised this...\n",
       "4  9495_8          1  Superbly trashy and wondrously unpretentious 8..."
      ]
     },
     "execution_count": 20,
     "metadata": {},
     "output_type": "execute_result"
    }
   ],
   "source": [
    "#Loading the data\n",
    "\n",
    "training_data= pd.read_csv('/Users/harikrishnanagarajan/Desktop/Kaggle/SA_using_Word2vec/labeledTrainData.tsv', header= 0, delimiter= '\\t')\n",
    "\n",
    "training_data.head()"
   ]
  },
  {
   "cell_type": "code",
   "execution_count": 21,
   "id": "1ec5fe6b",
   "metadata": {},
   "outputs": [
    {
     "data": {
      "text/plain": [
       "\"With all this stuff going down at the moment with MJ i've started listening to his music, watching the odd documentary here and there, watched The Wiz and watched Moonwalker again. Maybe i just want to get a certain insight into this guy who i thought was really cool in the eighties just to maybe make up my mind whether he is guilty or innocent. Moonwalker is part biography, part feature film which i remember going to see at the cinema when it was originally released. Some of it has subtle messages about MJ's feeling towards the press and also the obvious message of drugs are bad m'kay.<br /><br />Visually impressive but of course this is all about Michael Jackson so unless you remotely like MJ in anyway then you are going to hate this and find it boring. Some may call MJ an egotist for consenting to the making of this movie BUT MJ and most of his fans would say that he made it for the fans which if true is really nice of him.<br /><br />The actual feature film bit when it finally starts is only on for 20 minutes or so excluding the Smooth Criminal sequence and Joe Pesci is convincing as a psychopathic all powerful drug lord. Why he wants MJ dead so bad is beyond me. Because MJ overheard his plans? Nah, Joe Pesci's character ranted that he wanted people to know it is he who is supplying drugs etc so i dunno, maybe he just hates MJ's music.<br /><br />Lots of cool things in this like MJ turning into a car and a robot and the whole Speed Demon sequence. Also, the director must have had the patience of a saint when it came to filming the kiddy Bad sequence as usually directors hate working with one kid let alone a whole bunch of them performing a complex dance scene.<br /><br />Bottom line, this movie is for people who like MJ on one level or another (which i think is most people). If not, then stay away. It does try and give off a wholesome message and ironically MJ's bestest buddy in this movie is a girl! Michael Jackson is truly one of the most talented people ever to grace this planet but is he guilty? Well, with all the attention i've gave this subject....hmmm well i don't know because people can be different behind closed doors, i know this for a fact. He is either an extremely nice but stupid guy or one of the most sickest liars. I hope he is not the latter.\""
      ]
     },
     "execution_count": 21,
     "metadata": {},
     "output_type": "execute_result"
    }
   ],
   "source": [
    "training_data.review[0]"
   ]
  },
  {
   "cell_type": "code",
   "execution_count": 32,
   "id": "724ecc9c-2b07-4cc8-b17b-1e0ba8edcd6f",
   "metadata": {},
   "outputs": [
    {
     "name": "stdout",
     "output_type": "stream",
     "text": [
      "id           0\n",
      "sentiment    0\n",
      "review       0\n",
      "dtype: int64\n",
      "\n",
      "\n",
      "0    12500\n",
      "1    12500\n",
      "Name: sentiment, dtype: int64\n"
     ]
    }
   ],
   "source": [
    "#Checking for null values and balance of data\n",
    "\n",
    "print(training_data.isna().sum())\n",
    "print('\\n')\n",
    "print(training_data.sentiment.value_counts())"
   ]
  },
  {
   "cell_type": "markdown",
   "id": "9497990b-3de4-4146-bcd6-ba9e6f306004",
   "metadata": {},
   "source": [
    "### Cleaning the training data"
   ]
  },
  {
   "cell_type": "code",
   "execution_count": 27,
   "id": "42ede304-d528-47d8-b6cf-85d93192f2e5",
   "metadata": {},
   "outputs": [],
   "source": [
    "def clean_raw_text(review):\n",
    "    \n",
    "    ps= PorterStemmer()\n",
    "    \n",
    "    text= BeautifulSoup(review).get_text()\n",
    "    \n",
    "    letters_only= re.sub(\"[^A-Za-z]\", \" \", text)\n",
    "    \n",
    "    words= letters_only.lower().split()\n",
    "    \n",
    "    stop_words= set(stopwords.words('english'))\n",
    "    \n",
    "    meaningful_words= [x for x in words if x not in stop_words]\n",
    "    \n",
    "    stemmed_words= [ps.stem(w) for w in meaningful_words]\n",
    "    \n",
    "    return \" \".join(stemmed_words)"
   ]
  },
  {
   "cell_type": "code",
   "execution_count": 29,
   "id": "5cd53efa-0b50-41ed-9cc6-6717aaa301b1",
   "metadata": {},
   "outputs": [],
   "source": [
    "clean_reviews= []\n",
    "\n",
    "for review in training_data.review:\n",
    "    \n",
    "    clean_reviews.append(clean_raw_text(review))\n",
    "    "
   ]
  },
  {
   "cell_type": "code",
   "execution_count": 34,
   "id": "171e6b3b-95f8-4f84-a9b5-5e6bb9e7b816",
   "metadata": {},
   "outputs": [
    {
     "data": {
      "text/plain": [
       "'stuff go moment mj start listen music watch odd documentari watch wiz watch moonwalk mayb want get certain insight guy thought realli cool eighti mayb make mind whether guilti innoc moonwalk part biographi part featur film rememb go see cinema origin releas subtl messag mj feel toward press also obviou messag drug bad kay visual impress cours michael jackson unless remot like mj anyway go hate find bore may call mj egotist consent make movi mj fan would say made fan true realli nice actual featur film bit final start minut exclud smooth crimin sequenc joe pesci convinc psychopath power drug lord want mj dead bad beyond mj overheard plan nah joe pesci charact rant want peopl know suppli drug etc dunno mayb hate mj music lot cool thing like mj turn car robot whole speed demon sequenc also director must patienc saint came film kiddi bad sequenc usual director hate work one kid let alon whole bunch perform complex danc scene bottom line movi peopl like mj one level anoth think peopl stay away tri give wholesom messag iron mj bestest buddi movi girl michael jackson truli one talent peopl ever grace planet guilti well attent gave subject hmmm well know peopl differ behind close door know fact either extrem nice stupid guy one sickest liar hope latter'"
      ]
     },
     "execution_count": 34,
     "metadata": {},
     "output_type": "execute_result"
    }
   ],
   "source": [
    "clean_reviews[0]"
   ]
  },
  {
   "cell_type": "markdown",
   "id": "60060495-999e-421c-b5b6-b88d6be30dc3",
   "metadata": {
    "tags": []
   },
   "source": [
    "### Creating the model using CountVectorizer features"
   ]
  },
  {
   "cell_type": "markdown",
   "id": "cef08b08-901f-4b98-bd42-d7d86397e97d",
   "metadata": {},
   "source": [
    "### Tokenizing and Vectorizing the reviews ---> Feature Vectors\n"
   ]
  },
  {
   "cell_type": "code",
   "execution_count": 86,
   "id": "69ef6757-bba0-4363-a47a-01e4c2632103",
   "metadata": {},
   "outputs": [
    {
     "data": {
      "text/plain": [
       "array(<25000x2000 sparse matrix of type '<class 'numpy.int64'>'\n",
       "\twith 1802204 stored elements in Compressed Sparse Row format>,\n",
       "      dtype=object)"
      ]
     },
     "execution_count": 86,
     "metadata": {},
     "output_type": "execute_result"
    }
   ],
   "source": [
    "#Tokenizing and creating the vector features of our text data\n",
    "\n",
    "from sklearn.feature_extraction.text import CountVectorizer, TfidfVectorizer\n",
    "\n",
    "count_vectorizer= CountVectorizer(analyzer= 'word', tokenizer= None, max_features= 2000)\n",
    "\n",
    "train_data_features= count_vectorizer.fit_transform(clean_reviews)\n",
    "\n",
    "np.asarray(train_data_features)"
   ]
  },
  {
   "cell_type": "markdown",
   "id": "bc21e404-8236-4ed7-bc88-c95dba6daae7",
   "metadata": {},
   "source": [
    "### Splitting the reviews for training and validation"
   ]
  },
  {
   "cell_type": "code",
   "execution_count": 87,
   "id": "321cb335-0631-4ed1-bf83-e0b5ad53d5b6",
   "metadata": {},
   "outputs": [],
   "source": [
    "#Splitting into training and validation sets\n",
    "\n",
    "from sklearn.model_selection import train_test_split\n",
    "\n",
    "X_train, x_valid, y_train, y_valid= train_test_split(train_data_features, training_data.sentiment, test_size= 0.2)\n"
   ]
  },
  {
   "cell_type": "code",
   "execution_count": 88,
   "id": "3ee731a3-c9d1-4dde-921c-1ecbc749dba5",
   "metadata": {},
   "outputs": [],
   "source": [
    "from sklearn.ensemble import RandomForestClassifier\n",
    "from sklearn.metrics import accuracy_score, precision_score, recall_score, f1_score\n",
    "from sklearn.metrics import confusion_matrix, classification_report\n",
    "\n",
    "model= RandomForestClassifier(n_estimators= 256)\n",
    "\n",
    "history= model.fit(X_train, y_train)"
   ]
  },
  {
   "cell_type": "code",
   "execution_count": 89,
   "id": "68eaf9b3-6044-4f31-aab8-c33ff99acc38",
   "metadata": {},
   "outputs": [
    {
     "name": "stdout",
     "output_type": "stream",
     "text": [
      "              precision    recall  f1-score   support\n",
      "\n",
      "           0       0.84      0.84      0.84      2474\n",
      "           1       0.85      0.85      0.85      2526\n",
      "\n",
      "    accuracy                           0.84      5000\n",
      "   macro avg       0.84      0.84      0.84      5000\n",
      "weighted avg       0.85      0.84      0.85      5000\n",
      "\n"
     ]
    }
   ],
   "source": [
    "results= model.predict(x_valid)\n",
    "\n",
    "print(classification_report(results, y_valid))\n"
   ]
  },
  {
   "cell_type": "markdown",
   "id": "4edc1df9-f4be-4a43-aaeb-2f881b4c249e",
   "metadata": {},
   "source": [
    "### Creating the model using the TfIdfVectorizer features"
   ]
  },
  {
   "cell_type": "markdown",
   "id": "60a170e0-1c79-4100-967a-8b5f8b6b1b4d",
   "metadata": {},
   "source": [
    "### Tokenizing and Vectorizing the reviews ---> Feature Vectors\n"
   ]
  },
  {
   "cell_type": "code",
   "execution_count": 100,
   "id": "be59463e-da89-4379-8b82-03c55d756388",
   "metadata": {},
   "outputs": [
    {
     "data": {
      "text/plain": [
       "array(<25000x750 sparse matrix of type '<class 'numpy.float64'>'\n",
       "\twith 1380581 stored elements in Compressed Sparse Row format>,\n",
       "      dtype=object)"
      ]
     },
     "execution_count": 100,
     "metadata": {},
     "output_type": "execute_result"
    }
   ],
   "source": [
    "tfidf_vectorizer= TfidfVectorizer(analyzer= 'word', tokenizer= None, max_features= 750)\n",
    "\n",
    "train_data_features= tfidf_vectorizer.fit_transform(clean_reviews)\n",
    "\n",
    "np.asarray(train_data_features)"
   ]
  },
  {
   "cell_type": "markdown",
   "id": "ca2f2245-ba8d-4f56-925b-f86c06d4c409",
   "metadata": {},
   "source": [
    "### Splitting the reviews for training and validation"
   ]
  },
  {
   "cell_type": "code",
   "execution_count": 101,
   "id": "bea67bdd-6423-42fb-ba66-b61320b811f9",
   "metadata": {},
   "outputs": [],
   "source": [
    "#Splitting into training and validation sets\n",
    "\n",
    "from sklearn.model_selection import train_test_split\n",
    "\n",
    "X_train, x_valid, y_train, y_valid= train_test_split(train_data_features, training_data.sentiment, test_size= 0.2)\n"
   ]
  },
  {
   "cell_type": "code",
   "execution_count": 102,
   "id": "cf58f5eb-34f5-4607-afff-c5bc94715376",
   "metadata": {},
   "outputs": [],
   "source": [
    "from sklearn.ensemble import RandomForestClassifier\n",
    "from sklearn.metrics import accuracy_score, precision_score, recall_score, f1_score\n",
    "from sklearn.metrics import confusion_matrix, classification_report\n",
    "\n",
    "model_2= RandomForestClassifier(n_estimators= 256)\n",
    "\n",
    "history_2= model_2.fit(X_train, y_train)"
   ]
  },
  {
   "cell_type": "code",
   "execution_count": 103,
   "id": "45b7720d-7158-4b1e-a720-657c8721f5d9",
   "metadata": {},
   "outputs": [
    {
     "name": "stdout",
     "output_type": "stream",
     "text": [
      "              precision    recall  f1-score   support\n",
      "\n",
      "           0       0.82      0.83      0.82      2500\n",
      "           1       0.83      0.81      0.82      2500\n",
      "\n",
      "    accuracy                           0.82      5000\n",
      "   macro avg       0.82      0.82      0.82      5000\n",
      "weighted avg       0.82      0.82      0.82      5000\n",
      "\n"
     ]
    }
   ],
   "source": [
    "results= model_2.predict(x_valid)\n",
    "\n",
    "print(classification_report(results, y_valid))\n"
   ]
  },
  {
   "cell_type": "markdown",
   "id": "bfdbca2d-56da-466a-ae03-5b7d4ab21a45",
   "metadata": {},
   "source": [
    "### Importing the test data"
   ]
  },
  {
   "cell_type": "code",
   "execution_count": 104,
   "id": "62085af0-28d9-4923-8904-386202bda36a",
   "metadata": {},
   "outputs": [
    {
     "data": {
      "text/html": [
       "<div>\n",
       "<style scoped>\n",
       "    .dataframe tbody tr th:only-of-type {\n",
       "        vertical-align: middle;\n",
       "    }\n",
       "\n",
       "    .dataframe tbody tr th {\n",
       "        vertical-align: top;\n",
       "    }\n",
       "\n",
       "    .dataframe thead th {\n",
       "        text-align: right;\n",
       "    }\n",
       "</style>\n",
       "<table border=\"1\" class=\"dataframe\">\n",
       "  <thead>\n",
       "    <tr style=\"text-align: right;\">\n",
       "      <th></th>\n",
       "      <th>id</th>\n",
       "      <th>review</th>\n",
       "    </tr>\n",
       "  </thead>\n",
       "  <tbody>\n",
       "    <tr>\n",
       "      <th>0</th>\n",
       "      <td>12311_10</td>\n",
       "      <td>Naturally in a film who's main themes are of m...</td>\n",
       "    </tr>\n",
       "    <tr>\n",
       "      <th>1</th>\n",
       "      <td>8348_2</td>\n",
       "      <td>This movie is a disaster within a disaster fil...</td>\n",
       "    </tr>\n",
       "    <tr>\n",
       "      <th>2</th>\n",
       "      <td>5828_4</td>\n",
       "      <td>All in all, this is a movie for kids. We saw i...</td>\n",
       "    </tr>\n",
       "    <tr>\n",
       "      <th>3</th>\n",
       "      <td>7186_2</td>\n",
       "      <td>Afraid of the Dark left me with the impression...</td>\n",
       "    </tr>\n",
       "    <tr>\n",
       "      <th>4</th>\n",
       "      <td>12128_7</td>\n",
       "      <td>A very accurate depiction of small time mob li...</td>\n",
       "    </tr>\n",
       "  </tbody>\n",
       "</table>\n",
       "</div>"
      ],
      "text/plain": [
       "         id                                             review\n",
       "0  12311_10  Naturally in a film who's main themes are of m...\n",
       "1    8348_2  This movie is a disaster within a disaster fil...\n",
       "2    5828_4  All in all, this is a movie for kids. We saw i...\n",
       "3    7186_2  Afraid of the Dark left me with the impression...\n",
       "4   12128_7  A very accurate depiction of small time mob li..."
      ]
     },
     "execution_count": 104,
     "metadata": {},
     "output_type": "execute_result"
    }
   ],
   "source": [
    "testing_data= pd.read_csv('/Users/harikrishnanagarajan/Desktop/Kaggle/SA_using_Word2vec/testData.tsv', delimiter= '\\t')\n",
    "\n",
    "testing_data.head()"
   ]
  },
  {
   "cell_type": "code",
   "execution_count": 105,
   "id": "2723e0cf-b7b8-42d1-9be6-1ca95effd85e",
   "metadata": {},
   "outputs": [
    {
     "name": "stdout",
     "output_type": "stream",
     "text": [
      "id        0\n",
      "review    0\n",
      "dtype: int64\n"
     ]
    }
   ],
   "source": [
    "#Checking test data for null values\n",
    "\n",
    "print(testing_data.isna().sum())"
   ]
  },
  {
   "cell_type": "markdown",
   "id": "6edcbc8f-240c-4280-a9c4-c01abac61365",
   "metadata": {},
   "source": [
    "### Cleaning the test data ---> Predicting the sentiment for test data"
   ]
  },
  {
   "cell_type": "code",
   "execution_count": 109,
   "id": "e5ebf94a-c32d-4f52-9c41-d527a3c50826",
   "metadata": {},
   "outputs": [],
   "source": [
    "cleaned_test_reviews= [clean_raw_text(review) for review in testing_data.review]\n",
    "\n",
    "cleaned_test_reviews[0]"
   ]
  },
  {
   "cell_type": "code",
   "execution_count": 110,
   "id": "5b5ffb34-6f51-4987-8c31-c7fbaea9306b",
   "metadata": {},
   "outputs": [],
   "source": [
    "# test_data_features= tfidf_vectorizer.transform(cleaned_test_reviews)\n",
    "# np.asarray(test_data_features)\n",
    "\n",
    "# results= model_2.predict(test_data_features)\n",
    "\n",
    "# output = pd.DataFrame( data={\"id\":testing_data[\"id\"], \"sentiment\":results} )\n",
    "# output.to_csv('submission.csv')"
   ]
  },
  {
   "cell_type": "code",
   "execution_count": null,
   "id": "cc6059f5-d3c1-471e-8698-f241fddb642f",
   "metadata": {},
   "outputs": [],
   "source": []
  },
  {
   "cell_type": "code",
   "execution_count": null,
   "id": "fd132e35-4f0c-43ba-8130-5b828946f101",
   "metadata": {},
   "outputs": [],
   "source": []
  }
 ],
 "metadata": {
  "kernelspec": {
   "display_name": "Python 3",
   "language": "python",
   "name": "python3"
  },
  "language_info": {
   "codemirror_mode": {
    "name": "ipython",
    "version": 3
   },
   "file_extension": ".py",
   "mimetype": "text/x-python",
   "name": "python",
   "nbconvert_exporter": "python",
   "pygments_lexer": "ipython3",
   "version": "3.7.11"
  }
 },
 "nbformat": 4,
 "nbformat_minor": 5
}
